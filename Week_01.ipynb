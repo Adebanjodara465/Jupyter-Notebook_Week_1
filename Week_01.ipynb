{
 "cells": [
  {
   "cell_type": "markdown",
   "id": "c0c52464-cfc6-4950-9945-b5cadacdacab",
   "metadata": {},
   "source": [
    "# Week 01"
   ]
  },
  {
   "cell_type": "code",
   "execution_count": 1,
   "id": "fc4f6b66-a599-45ac-9998-99a99f088c2c",
   "metadata": {},
   "outputs": [
    {
     "name": "stdout",
     "output_type": "stream",
     "text": [
      "Hello, world!\n"
     ]
    }
   ],
   "source": [
    "# this is python\n",
    "print(\"Hello, world!\")"
   ]
  },
  {
   "cell_type": "code",
   "execution_count": 11,
   "id": "486b1ff8-b774-41c0-bfd7-e68ddd944dd0",
   "metadata": {},
   "outputs": [
    {
     "name": "stdout",
     "output_type": "stream",
     "text": [
      "The number is lower than what you guessed.\n"
     ]
    }
   ],
   "source": [
    "# Guessing Game\n",
    "from random import randint\n",
    "from IPython.display import clear_output\n",
    "\n",
    "guesses = False\n",
    "number = randint(0, 100)\n",
    "guesses = 0\n",
    "\n",
    "while not guesses:\n",
    "    ans = input(\"Try to guess the number I am thinking of!\")\n",
    "#use tab to indent\n",
    "    guesses += 1\n",
    "\n",
    "    clear_output( )\n",
    "\n",
    "    if int(ans) == number:\n",
    "        print(\"Congrats! You guessed it correctly!\")\n",
    "        print(\"It took you { } guesses!\" .format(guesses) )\n",
    "    elif int(ans) > number:\n",
    "        print(\"The number is lower than what you guessed.\")\n",
    "    else:           \n",
    "        print(\"The number is greater than what you guessed.\")        "
   ]
  },
  
