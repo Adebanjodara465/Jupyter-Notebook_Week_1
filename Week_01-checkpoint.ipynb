{
 "cells": [
  {
   "cell_type": "markdown",
   "id": "c0c52464-cfc6-4950-9945-b5cadacdacab",
   "metadata": {},
   "source": [
    "# Week 01"
   ]
  },
  {
   "cell_type": "code",
   "execution_count": 1,
   "id": "fc4f6b66-a599-45ac-9998-99a99f088c2c",
   "metadata": {},
   "outputs": [
    {
     "name": "stdout",
     "output_type": "stream",
     "text": [
      "Hello, world!\n"
     ]
    }
   ],
   "source": [
    "# this is python\n",
    "print(\"Hello, world!\")"
   ]
  },
  {
   "cell_type": "code",
   "execution_count": 2,
   "id": "8b58b379-3426-4d5c-8b44-2f7ac39f183a",
   "metadata": {},
   "outputs": [
    {
     "name": "stdout",
     "output_type": "stream",
     "text": [
      "Hello, world!\n"
     ]
    }
   ],
   "source": [
    "print(\"Hello, world!\")"
   ]
  },
  {
   "cell_type": "code",
   "execution_count": null,
   "id": "502cc959-5f09-41e9-a81e-a5f62d223982",
   "metadata": {},
   "outputs": [],
   "source": []
  }
 ],
 "metadata": {
  "kernelspec": {
   "display_name": "Python 3 (ipykernel)",
   "language": "python",
   "name": "python3"
  },
  "language_info": {
   "codemirror_mode": {
    "name": "ipython",
    "version": 3
   },
   "file_extension": ".py",
   "mimetype": "text/x-python",
   "name": "python",
   "nbconvert_exporter": "python",
   "pygments_lexer": "ipython3",
   "version": "3.12.7"
  }
 },
 "nbformat": 4,
 "nbformat_minor": 5
}
