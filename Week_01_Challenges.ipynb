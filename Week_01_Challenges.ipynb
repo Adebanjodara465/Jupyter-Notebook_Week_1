{
 "cells": [
  {
   "cell_type": "markdown",
   "id": "f2b60f67-01e2-4666-9dcc-0e0849706359",
   "metadata": {},
   "source": [
    "# Challenge  \n",
    "one #\n"
   ]
  },
  {
   "cell_type": "markdown",
   "id": "5f39a3b4-7ab5-469f-b876-94e72f34b00e",
   "metadata": {},
   "source": [
    "## Challengee\n",
    "two #"
   ]
  },
  {
   "cell_type": "markdown",
   "id": "ff3d60cd-0471-428c-9113-606cc63aa8b2",
   "metadata": {},
   "source": [
    "### Challenge\n",
    "three #"
   ]
  },
  {
   "cell_type": "raw",
   "id": "926fec43-6777-4b89-8631-414758582bdd",
   "metadata": {},
   "source": []
  },
  {
   "cell_type": "code",
   "execution_count": null,
   "id": "feab27ce-ac3c-4e88-95b6-e0b40c4195d7",
   "metadata": {},
   "outputs": [],
   "source": []
  }
 ],
 "metadata": {
  "kernelspec": {
   "display_name": "Python 3 (ipykernel)",
   "language": "python",
   "name": "python3"
  },
  "language_info": {
   "codemirror_mode": {
    "name": "ipython",
    "version": 3
   },
   "file_extension": ".py",
   "mimetype": "text/x-python",
   "name": "python",
   "nbconvert_exporter": "python",
   "pygments_lexer": "ipython3",
   "version": "3.12.7"
  }
 },
 "nbformat": 4,
 "nbformat_minor": 5
}
